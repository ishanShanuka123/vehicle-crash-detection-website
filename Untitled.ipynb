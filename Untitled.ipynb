{
 "cells": [
  {
   "cell_type": "code",
   "execution_count": 1,
   "id": "e0488dff",
   "metadata": {},
   "outputs": [
    {
     "name": "stdout",
     "output_type": "stream",
     "text": [
      "Requirement already satisfied: torch in c:\\users\\acer\\anaconda3\\lib\\site-packages (2.0.1)\n",
      "Requirement already satisfied: networkx in c:\\users\\acer\\anaconda3\\lib\\site-packages (from torch) (2.8.4)\n",
      "Requirement already satisfied: sympy in c:\\users\\acer\\anaconda3\\lib\\site-packages (from torch) (1.11.1)\n",
      "Requirement already satisfied: filelock in c:\\users\\acer\\anaconda3\\lib\\site-packages (from torch) (3.9.0)\n",
      "Requirement already satisfied: jinja2 in c:\\users\\acer\\anaconda3\\lib\\site-packages (from torch) (3.1.2)\n",
      "Requirement already satisfied: typing-extensions in c:\\users\\acer\\anaconda3\\lib\\site-packages (from torch) (4.4.0)\n",
      "Requirement already satisfied: MarkupSafe>=2.0 in c:\\users\\acer\\anaconda3\\lib\\site-packages (from jinja2->torch) (2.1.1)\n",
      "Requirement already satisfied: mpmath>=0.19 in c:\\users\\acer\\anaconda3\\lib\\site-packages (from sympy->torch) (1.2.1)\n"
     ]
    }
   ],
   "source": [
    "!pip install torch"
   ]
  },
  {
   "cell_type": "code",
   "execution_count": 2,
   "id": "2e4ef266",
   "metadata": {},
   "outputs": [
    {
     "name": "stdout",
     "output_type": "stream",
     "text": [
      "Collecting torchvision\n",
      "  Using cached torchvision-0.15.2-cp310-cp310-win_amd64.whl (1.2 MB)\n",
      "Requirement already satisfied: torch==2.0.1 in c:\\users\\acer\\anaconda3\\lib\\site-packages (from torchvision) (2.0.1)\n",
      "Requirement already satisfied: pillow!=8.3.*,>=5.3.0 in c:\\users\\acer\\anaconda3\\lib\\site-packages (from torchvision) (9.4.0)\n",
      "Requirement already satisfied: numpy in c:\\users\\acer\\anaconda3\\lib\\site-packages (from torchvision) (1.23.5)\n",
      "Requirement already satisfied: requests in c:\\users\\acer\\anaconda3\\lib\\site-packages (from torchvision) (2.28.1)\n",
      "Requirement already satisfied: jinja2 in c:\\users\\acer\\anaconda3\\lib\\site-packages (from torch==2.0.1->torchvision) (3.1.2)\n",
      "Requirement already satisfied: networkx in c:\\users\\acer\\anaconda3\\lib\\site-packages (from torch==2.0.1->torchvision) (2.8.4)\n",
      "Requirement already satisfied: filelock in c:\\users\\acer\\anaconda3\\lib\\site-packages (from torch==2.0.1->torchvision) (3.9.0)\n",
      "Requirement already satisfied: sympy in c:\\users\\acer\\anaconda3\\lib\\site-packages (from torch==2.0.1->torchvision) (1.11.1)\n",
      "Requirement already satisfied: typing-extensions in c:\\users\\acer\\anaconda3\\lib\\site-packages (from torch==2.0.1->torchvision) (4.4.0)\n",
      "Requirement already satisfied: idna<4,>=2.5 in c:\\users\\acer\\anaconda3\\lib\\site-packages (from requests->torchvision) (3.4)\n",
      "Requirement already satisfied: urllib3<1.27,>=1.21.1 in c:\\users\\acer\\anaconda3\\lib\\site-packages (from requests->torchvision) (1.26.14)\n",
      "Requirement already satisfied: certifi>=2017.4.17 in c:\\users\\acer\\anaconda3\\lib\\site-packages (from requests->torchvision) (2022.12.7)\n",
      "Requirement already satisfied: charset-normalizer<3,>=2 in c:\\users\\acer\\anaconda3\\lib\\site-packages (from requests->torchvision) (2.0.4)\n",
      "Requirement already satisfied: MarkupSafe>=2.0 in c:\\users\\acer\\anaconda3\\lib\\site-packages (from jinja2->torch==2.0.1->torchvision) (2.1.1)\n",
      "Requirement already satisfied: mpmath>=0.19 in c:\\users\\acer\\anaconda3\\lib\\site-packages (from sympy->torch==2.0.1->torchvision) (1.2.1)\n",
      "Installing collected packages: torchvision\n",
      "Successfully installed torchvision-0.15.2\n"
     ]
    }
   ],
   "source": [
    "!pip install torchvision\n"
   ]
  },
  {
   "cell_type": "code",
   "execution_count": 1,
   "id": "625fb73b",
   "metadata": {},
   "outputs": [],
   "source": [
    "import torch"
   ]
  },
  {
   "cell_type": "code",
   "execution_count": null,
   "id": "4e69f829",
   "metadata": {},
   "outputs": [],
   "source": []
  },
  {
   "cell_type": "code",
   "execution_count": 2,
   "id": "c05fad17",
   "metadata": {},
   "outputs": [],
   "source": [
    "from IPython.display import Image"
   ]
  },
  {
   "cell_type": "code",
   "execution_count": 4,
   "id": "bdbb3fae",
   "metadata": {},
   "outputs": [
    {
     "name": "stderr",
     "output_type": "stream",
     "text": [
      "Cloning into 'yolov5'...\n"
     ]
    }
   ],
   "source": [
    "! git clone https://github.com/ultralytics/yolov5.git"
   ]
  },
  {
   "cell_type": "code",
   "execution_count": 3,
   "id": "f2119312",
   "metadata": {},
   "outputs": [
    {
     "name": "stdout",
     "output_type": "stream",
     "text": [
      "C:\\Users\\ACER\\accident\\yolov5\n"
     ]
    }
   ],
   "source": [
    "%cd yolov5"
   ]
  },
  {
   "cell_type": "code",
   "execution_count": 6,
   "id": "da1c4410",
   "metadata": {},
   "outputs": [
    {
     "name": "stdout",
     "output_type": "stream",
     "text": [
      "Collecting gitpython>=3.1.30\n",
      "  Using cached GitPython-3.1.31-py3-none-any.whl (184 kB)\n",
      "Requirement already satisfied: matplotlib>=3.3 in c:\\users\\acer\\anaconda3\\lib\\site-packages (from -r requirements.txt (line 6)) (3.7.0)\n",
      "Requirement already satisfied: numpy>=1.18.5 in c:\\users\\acer\\anaconda3\\lib\\site-packages (from -r requirements.txt (line 7)) (1.23.5)\n",
      "Requirement already satisfied: opencv-python>=4.1.1 in c:\\users\\acer\\anaconda3\\lib\\site-packages (from -r requirements.txt (line 8)) (4.7.0.72)\n",
      "Requirement already satisfied: Pillow>=7.1.2 in c:\\users\\acer\\anaconda3\\lib\\site-packages (from -r requirements.txt (line 9)) (9.4.0)\n",
      "Requirement already satisfied: psutil in c:\\users\\acer\\anaconda3\\lib\\site-packages (from -r requirements.txt (line 10)) (5.9.0)\n",
      "Requirement already satisfied: PyYAML>=5.3.1 in c:\\users\\acer\\anaconda3\\lib\\site-packages (from -r requirements.txt (line 11)) (6.0)\n",
      "Requirement already satisfied: requests>=2.23.0 in c:\\users\\acer\\anaconda3\\lib\\site-packages (from -r requirements.txt (line 12)) (2.28.1)\n",
      "Requirement already satisfied: scipy>=1.4.1 in c:\\users\\acer\\anaconda3\\lib\\site-packages (from -r requirements.txt (line 13)) (1.10.0)\n",
      "Collecting thop>=0.1.1\n",
      "  Using cached thop-0.1.1.post2209072238-py3-none-any.whl (15 kB)\n",
      "Requirement already satisfied: torch>=1.7.0 in c:\\users\\acer\\anaconda3\\lib\\site-packages (from -r requirements.txt (line 15)) (2.0.1)\n",
      "Requirement already satisfied: torchvision>=0.8.1 in c:\\users\\acer\\anaconda3\\lib\\site-packages (from -r requirements.txt (line 16)) (0.15.2)\n",
      "Requirement already satisfied: tqdm>=4.64.0 in c:\\users\\acer\\anaconda3\\lib\\site-packages (from -r requirements.txt (line 17)) (4.64.1)\n",
      "Collecting ultralytics>=8.0.100\n",
      "  Using cached ultralytics-8.0.105-py3-none-any.whl (586 kB)\n",
      "Requirement already satisfied: pandas>=1.1.4 in c:\\users\\acer\\anaconda3\\lib\\site-packages (from -r requirements.txt (line 27)) (1.5.3)\n",
      "Requirement already satisfied: seaborn>=0.11.0 in c:\\users\\acer\\anaconda3\\lib\\site-packages (from -r requirements.txt (line 28)) (0.12.2)\n",
      "Requirement already satisfied: setuptools>=65.5.1 in c:\\users\\acer\\anaconda3\\lib\\site-packages (from -r requirements.txt (line 42)) (65.6.3)\n",
      "Collecting gitdb<5,>=4.0.1\n",
      "  Using cached gitdb-4.0.10-py3-none-any.whl (62 kB)\n",
      "Requirement already satisfied: cycler>=0.10 in c:\\users\\acer\\anaconda3\\lib\\site-packages (from matplotlib>=3.3->-r requirements.txt (line 6)) (0.11.0)\n",
      "Requirement already satisfied: python-dateutil>=2.7 in c:\\users\\acer\\anaconda3\\lib\\site-packages (from matplotlib>=3.3->-r requirements.txt (line 6)) (2.8.2)\n",
      "Requirement already satisfied: fonttools>=4.22.0 in c:\\users\\acer\\anaconda3\\lib\\site-packages (from matplotlib>=3.3->-r requirements.txt (line 6)) (4.25.0)\n",
      "Requirement already satisfied: packaging>=20.0 in c:\\users\\acer\\anaconda3\\lib\\site-packages (from matplotlib>=3.3->-r requirements.txt (line 6)) (22.0)\n",
      "Requirement already satisfied: pyparsing>=2.3.1 in c:\\users\\acer\\anaconda3\\lib\\site-packages (from matplotlib>=3.3->-r requirements.txt (line 6)) (3.0.9)\n",
      "Requirement already satisfied: kiwisolver>=1.0.1 in c:\\users\\acer\\anaconda3\\lib\\site-packages (from matplotlib>=3.3->-r requirements.txt (line 6)) (1.4.4)\n",
      "Requirement already satisfied: contourpy>=1.0.1 in c:\\users\\acer\\anaconda3\\lib\\site-packages (from matplotlib>=3.3->-r requirements.txt (line 6)) (1.0.5)\n",
      "Requirement already satisfied: certifi>=2017.4.17 in c:\\users\\acer\\anaconda3\\lib\\site-packages (from requests>=2.23.0->-r requirements.txt (line 12)) (2022.12.7)\n",
      "Requirement already satisfied: idna<4,>=2.5 in c:\\users\\acer\\anaconda3\\lib\\site-packages (from requests>=2.23.0->-r requirements.txt (line 12)) (3.4)\n",
      "Requirement already satisfied: charset-normalizer<3,>=2 in c:\\users\\acer\\anaconda3\\lib\\site-packages (from requests>=2.23.0->-r requirements.txt (line 12)) (2.0.4)\n",
      "Requirement already satisfied: urllib3<1.27,>=1.21.1 in c:\\users\\acer\\anaconda3\\lib\\site-packages (from requests>=2.23.0->-r requirements.txt (line 12)) (1.26.14)\n",
      "Requirement already satisfied: jinja2 in c:\\users\\acer\\anaconda3\\lib\\site-packages (from torch>=1.7.0->-r requirements.txt (line 15)) (3.1.2)\n",
      "Requirement already satisfied: filelock in c:\\users\\acer\\anaconda3\\lib\\site-packages (from torch>=1.7.0->-r requirements.txt (line 15)) (3.9.0)\n",
      "Requirement already satisfied: typing-extensions in c:\\users\\acer\\anaconda3\\lib\\site-packages (from torch>=1.7.0->-r requirements.txt (line 15)) (4.4.0)\n",
      "Requirement already satisfied: sympy in c:\\users\\acer\\anaconda3\\lib\\site-packages (from torch>=1.7.0->-r requirements.txt (line 15)) (1.11.1)\n",
      "Requirement already satisfied: networkx in c:\\users\\acer\\anaconda3\\lib\\site-packages (from torch>=1.7.0->-r requirements.txt (line 15)) (2.8.4)\n",
      "Requirement already satisfied: colorama in c:\\users\\acer\\anaconda3\\lib\\site-packages (from tqdm>=4.64.0->-r requirements.txt (line 17)) (0.4.6)\n",
      "Requirement already satisfied: sentry-sdk in c:\\users\\acer\\anaconda3\\lib\\site-packages (from ultralytics>=8.0.100->-r requirements.txt (line 18)) (1.23.1)\n",
      "Requirement already satisfied: pytz>=2020.1 in c:\\users\\acer\\anaconda3\\lib\\site-packages (from pandas>=1.1.4->-r requirements.txt (line 27)) (2022.7)\n",
      "Requirement already satisfied: smmap<6,>=3.0.1 in c:\\users\\acer\\anaconda3\\lib\\site-packages (from gitdb<5,>=4.0.1->gitpython>=3.1.30->-r requirements.txt (line 5)) (5.0.0)\n",
      "Requirement already satisfied: six>=1.5 in c:\\users\\acer\\anaconda3\\lib\\site-packages (from python-dateutil>=2.7->matplotlib>=3.3->-r requirements.txt (line 6)) (1.16.0)\n",
      "Requirement already satisfied: MarkupSafe>=2.0 in c:\\users\\acer\\anaconda3\\lib\\site-packages (from jinja2->torch>=1.7.0->-r requirements.txt (line 15)) (2.1.1)\n",
      "Requirement already satisfied: mpmath>=0.19 in c:\\users\\acer\\anaconda3\\lib\\site-packages (from sympy->torch>=1.7.0->-r requirements.txt (line 15)) (1.2.1)\n",
      "Installing collected packages: gitdb, gitpython, thop, ultralytics\n",
      "Successfully installed gitdb-4.0.10 gitpython-3.1.31 thop-0.1.1.post2209072238 ultralytics-8.0.105\n"
     ]
    }
   ],
   "source": [
    "!pip install -r requirements.txt"
   ]
  },
  {
   "cell_type": "code",
   "execution_count": 4,
   "id": "04a3c34c",
   "metadata": {},
   "outputs": [
    {
     "ename": "FileNotFoundError",
     "evalue": "[WinError 3] The system cannot find the path specified: 'C:/Users/ACER/accident/data/ts'",
     "output_type": "error",
     "traceback": [
      "\u001b[1;31m---------------------------------------------------------------------------\u001b[0m",
      "\u001b[1;31mFileNotFoundError\u001b[0m                         Traceback (most recent call last)",
      "Cell \u001b[1;32mIn[4], line 20\u001b[0m\n\u001b[0;32m     16\u001b[0m val_ratio \u001b[38;5;241m=\u001b[39m \u001b[38;5;241m0.2\u001b[39m\n\u001b[0;32m     19\u001b[0m \u001b[38;5;66;03m#total count of imgs\u001b[39;00m\n\u001b[1;32m---> 20\u001b[0m totalImgCount \u001b[38;5;241m=\u001b[39m \u001b[38;5;28mlen\u001b[39m(\u001b[43mos\u001b[49m\u001b[38;5;241;43m.\u001b[39;49m\u001b[43mlistdir\u001b[49m\u001b[43m(\u001b[49m\u001b[43mcrsPath\u001b[49m\u001b[43m)\u001b[49m)\u001b[38;5;241m/\u001b[39m\u001b[38;5;241m2\u001b[39m\n\u001b[0;32m     22\u001b[0m \u001b[38;5;66;03m#soring files to corresponding arrays\u001b[39;00m\n\u001b[0;32m     23\u001b[0m \u001b[38;5;28;01mfor\u001b[39;00m (dirname, dirs, files) \u001b[38;5;129;01min\u001b[39;00m os\u001b[38;5;241m.\u001b[39mwalk(crsPath):\n",
      "\u001b[1;31mFileNotFoundError\u001b[0m: [WinError 3] The system cannot find the path specified: 'C:/Users/ACER/accident/data/ts'"
     ]
    }
   ],
   "source": [
    "import os\n",
    "from random import choice\n",
    "import shutil\n",
    "\n",
    "#arrays to store file names\n",
    "imgs =[]\n",
    "xmls =[]\n",
    "\n",
    "#setup dir names\n",
    "trainPath = 'C:/Users/ACER/accident/dataset/images/train'\n",
    "valPath = 'C:/Users/ACER/accident/dataset/images/val'\n",
    "crsPath = 'C:/Users/ACER/accident/data/ts' #dir where images and annotations stored\n",
    "\n",
    "#setup ratio (val ratio = rest of the files in origin dir after splitting into train and test)\n",
    "train_ratio = 0.8\n",
    "val_ratio = 0.2\n",
    "\n",
    "\n",
    "#total count of imgs\n",
    "totalImgCount = len(os.listdir(crsPath))/2\n",
    "\n",
    "#soring files to corresponding arrays\n",
    "for (dirname, dirs, files) in os.walk(crsPath):\n",
    "    for filename in files:\n",
    "        if filename.endswith('.txt'):\n",
    "            xmls.append(filename)\n",
    "        else:\n",
    "            imgs.append(filename)\n",
    "\n",
    "\n",
    "#counting range for cycles\n",
    "countForTrain = int(len(imgs)*train_ratio)\n",
    "countForVal = int(len(imgs)*val_ratio)\n",
    "print(\"training images are : \",countForTrain)\n",
    "print(\"Validation images are : \",countForVal)\n"
   ]
  },
  {
   "cell_type": "code",
   "execution_count": 8,
   "id": "4534f804",
   "metadata": {},
   "outputs": [
    {
     "data": {
      "text/plain": [
       "'C:/Users/ACER/accident/dataset/images/val\\\\ts'"
      ]
     },
     "execution_count": 8,
     "metadata": {},
     "output_type": "execute_result"
    }
   ],
   "source": [
    "trainimagePath = 'C:/Users/ACER/accident/dataset/images/train'\n",
    "trainlabelPath = 'C:/Users/ACER/accident/dataset/labels/train'\n",
    "valimagePath = 'C:/Users/ACER/accident/dataset/images/val'\n",
    "vallabelPath = 'C:/Users/ACER/accident/dataset/labels/val'\n",
    "#cycle for train dir\n",
    "for x in range(countForTrain):\n",
    "\n",
    "    fileJpg = choice(imgs) # get name of random image from origin dir\n",
    "    fileXml = fileJpg[:-4] +'.txt' # get name of corresponding annotation file\n",
    "\n",
    "    #move both files into train dir\n",
    "    #shutil.move(os.path.join(crsPath, fileJpg), os.path.join(trainimagePath, fileJpg))\n",
    "    #shutil.move(os.path.join(crsPath, fileXml), os.path.join(trainlabelPath, fileXml))\n",
    "    shutil.copy(os.path.join(crsPath, fileJpg), os.path.join(trainimagePath, fileJpg))\n",
    "    shutil.copy(os.path.join(crsPath, fileXml), os.path.join(trainlabelPath, fileXml))\n",
    "\n",
    "\n",
    "    #remove files from arrays\n",
    "    imgs.remove(fileJpg)\n",
    "    xmls.remove(fileXml)\n",
    "\n",
    "\n",
    "\n",
    "#cycle for test dir   \n",
    "for x in range(countForVal):\n",
    "\n",
    "    fileJpg = choice(imgs) # get name of random image from origin dir\n",
    "    fileXml = fileJpg[:-4] +'.txt' # get name of corresponding annotation file\n",
    "\n",
    "    #move both files into train dir\n",
    "    #shutil.move(os.path.join(crsPath, fileJpg), os.path.join(valimagePath, fileJpg))\n",
    "    #shutil.move(os.path.join(crsPath, fileXml), os.path.join(vallabelPath, fileXml))\n",
    "    shutil.copy(os.path.join(crsPath, fileJpg), os.path.join(valimagePath, fileJpg))\n",
    "    shutil.copy(os.path.join(crsPath, fileXml), os.path.join(vallabelPath, fileXml))\n",
    "    \n",
    "    #remove files from arrays\n",
    "    imgs.remove(fileJpg)\n",
    "    xmls.remove(fileXml)\n",
    "\n",
    "#rest of files will be validation files, so rename origin dir to val dir\n",
    "#os.rename(crsPath, valPath)\n",
    "shutil.move(crsPath, valPath) \n"
   ]
  },
  {
   "cell_type": "code",
   "execution_count": null,
   "id": "b2737840",
   "metadata": {},
   "outputs": [],
   "source": []
  },
  {
   "cell_type": "code",
   "execution_count": 8,
   "id": "871ad1ec",
   "metadata": {},
   "outputs": [],
   "source": [
    "!python train.py --batch 5 --epochs 5 --data dataset.yaml --weights yolov5s.pt --cache"
   ]
  },
  {
   "cell_type": "code",
   "execution_count": 12,
   "id": "89b6809b",
   "metadata": {},
   "outputs": [
    {
     "name": "stdout",
     "output_type": "stream",
     "text": [
      "1.12.1\n"
     ]
    }
   ],
   "source": [
    "import torch\n",
    "print(torch.__version__)\n"
   ]
  },
  {
   "cell_type": "code",
   "execution_count": 10,
   "id": "706ce5f1",
   "metadata": {},
   "outputs": [
    {
     "name": "stderr",
     "output_type": "stream",
     "text": [
      "python: can't open file 'C:\\\\Users\\\\ACER\\\\accident\\\\yolov5\\\\yolov5\\\\detect.py': [Errno 2] No such file or directory\n"
     ]
    }
   ],
   "source": [
    "!python yolov5/detect.py --weights yolov5/runs/train/exp6/weights/best.pt --project yolov5/Output --name run1 --source Input/  --data yolov5/data/dataset.yaml"
   ]
  },
  {
   "cell_type": "code",
   "execution_count": null,
   "id": "e49ad0d2",
   "metadata": {},
   "outputs": [],
   "source": []
  }
 ],
 "metadata": {
  "kernelspec": {
   "display_name": "Python 3 (ipykernel)",
   "language": "python",
   "name": "python3"
  },
  "language_info": {
   "codemirror_mode": {
    "name": "ipython",
    "version": 3
   },
   "file_extension": ".py",
   "mimetype": "text/x-python",
   "name": "python",
   "nbconvert_exporter": "python",
   "pygments_lexer": "ipython3",
   "version": "3.10.9"
  }
 },
 "nbformat": 4,
 "nbformat_minor": 5
}
